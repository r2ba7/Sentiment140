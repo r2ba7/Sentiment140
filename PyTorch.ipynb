{
 "cells": [
  {
   "cell_type": "code",
   "execution_count": 1,
   "metadata": {},
   "outputs": [
    {
     "name": "stderr",
     "output_type": "stream",
     "text": [
      "c:\\Users\\abdel\\.conda\\envs\\tensorflow\\lib\\site-packages\\tqdm\\auto.py:22: TqdmWarning: IProgress not found. Please update jupyter and ipywidgets. See https://ipywidgets.readthedocs.io/en/stable/user_install.html\n",
      "  from .autonotebook import tqdm as notebook_tqdm\n"
     ]
    }
   ],
   "source": [
    "from imports import *\n",
    "from Preprocessing_PyTorch import *\n",
    "from model import *\n",
    "from utils import *\n",
    "import warnings\n",
    "warnings.filterwarnings('ignore')\n",
    "from sklearn.metrics import accuracy_score"
   ]
  },
  {
   "cell_type": "code",
   "execution_count": 2,
   "metadata": {},
   "outputs": [],
   "source": [
    "class Classifier2(nn.Module):\n",
    "    def __init__(self, input_size):\n",
    "        super().__init__()\n",
    "        self.input_size = input_size\n",
    "        self.hidden_dim = Config.HIDDEN_SIZE\n",
    "        self.output_size = Config.OUTPUT_SIZE\n",
    "        self.LSTM_layers = Config.LSTM_LAYERS\n",
    "        self.dropout = nn.Dropout(0.5)\n",
    "        self.embedding = nn.Embedding(self.input_size, self.hidden_dim, padding_idx=0)\n",
    "        self.lstm = nn.LSTM(input_size=self.hidden_dim, hidden_size=self.hidden_dim, num_layers=self.LSTM_layers, batch_first=True)\n",
    "        self.fc1 = nn.Linear(in_features=self.hidden_dim, out_features=16)\n",
    "        self.fc2 = nn.Linear(16, self.output_size)\n",
    "\n",
    "    def forward(self, x):\n",
    "        h0 = torch.zeros(self.LSTM_layers, x.size(0), self.hidden_dim, device=x.device).float()\n",
    "        c0 = torch.zeros(self.LSTM_layers, x.size(0), self.hidden_dim, device=x.device).float()\n",
    "        # h0 = torch.zeros(self.LSTM_layers, x.size(0), self.hidden_dim).float()\n",
    "        # c0 = torch.zeros(self.LSTM_layers, x.size(0), self.hidden_dim).float()\n",
    "        #torch.nn.init.xavier_normal_(h0)\n",
    "        #torch.nn.init.xavier_normal_(c0)\n",
    "        out = self.embedding(x)\n",
    "        out, _ = self.lstm(out, (h0,c0))\n",
    "        out = self.dropout(out)\n",
    "        out = torch.relu_(self.fc1(out[:,-1,:]))\n",
    "        out = self.dropout(out)\n",
    "        out = torch.sigmoid(self.fc2(out))\n",
    "        return out"
   ]
  },
  {
   "cell_type": "code",
   "execution_count": 6,
   "metadata": {},
   "outputs": [],
   "source": [
    "def METRIC(outputs, labels):\n",
    "    outputs = outputs > 0.5\n",
    "    return (labels == outputs).sum().item() / labels.size(0)\n",
    "\n",
    "class Executing:\n",
    "    def __init__(self):\n",
    "        \"\"\"\n",
    "        Initializes the executing class.\n",
    "        \"\"\"\n",
    "        self.batch_size = Config.BATCH_SIZE\n",
    "        self.epochs = Config.NUM_EPOCHS\n",
    "        self.lr = Config.LR\n",
    "        #self.metric = Config.METRIC\n",
    "\n",
    "    def on_epoch_start(self, epoch):\n",
    "        print(f'Epoch {epoch+1}/{self.epochs}')\n",
    "\n",
    "    def prepare_batches(self):\n",
    "        \"\"\"\n",
    "        Prepares the batches.\n",
    "        \"\"\"\n",
    "        #self.X_train, self.X_test, self.y_train, self.y_test = self.df.get_data()\n",
    "        self.X_train, self.X_test, self.y_train, self.y_test = df.get_data()\n",
    "\n",
    "        self.X_train = torch.tensor(self.X_train, dtype=torch.long)\n",
    "        self.y_train = torch.tensor(self.y_train, dtype=torch.float32)\n",
    "        self.X_test = torch.tensor(self.X_test, dtype=torch.long)\n",
    "        self.y_test = torch.tensor(self.y_test, dtype=torch.float32)\n",
    "        self.train_dataset = torch.utils.data.TensorDataset(self.X_train, self.y_train)\n",
    "        self.test_dataset = torch.utils.data.TensorDataset(self.X_test, self.y_test)\n",
    "        self.train_loader = torch.utils.data.DataLoader(self.train_dataset, batch_size=self.batch_size, shuffle=True)\n",
    "        self.test_loader = torch.utils.data.DataLoader(self.test_dataset, shuffle=True)\n",
    "\n",
    "    def prepare_data(self):\n",
    "        \"\"\"\n",
    "        Prepares the data.\n",
    "        \"\"\"\n",
    "        #self.df = Preprocessing()\n",
    "        # self.input_size = self.df.max_words\n",
    "        #self.df.text2seq()\n",
    "        #df.text2seq()\n",
    "        #tokenizer = self.df.get_tokenizer()\n",
    "        tokenizer = df.get_tokenizer()\n",
    "        self.input_size = len(tokenizer.word_index) + 1\n",
    "        self.model = Classifier(self.input_size)\n",
    "        self.prepare_batches()\n",
    "        print(\"Done preparing data\")\n",
    "\n",
    "    def fit(self):\n",
    "        \"\"\"\n",
    "        Trains the model.\n",
    "        \"\"\"\n",
    "        self.prepare_data()\n",
    "        self.model.to(Config.DEVICE)\n",
    "        self.criterion = nn.BCELoss()\n",
    "        self.optimizer = torch.optim.Adam(self.model.parameters(), lr=self.lr)\n",
    "        self.history = []\n",
    "        for epoch in range(self.epochs):\n",
    "            self.on_epoch_start(epoch)\n",
    "            self.model.train()\n",
    "            train_loss, train_acc, = [], []\n",
    "            for x, y in self.train_loader:\n",
    "                x = x.to(Config.DEVICE)\n",
    "                y = y.to(Config.DEVICE)\n",
    "                y_pred = self.model(x)\n",
    "                loss = self.criterion(y_pred, y)\n",
    "                self.optimizer.zero_grad()\n",
    "                loss.backward()\n",
    "                train_loss += [loss.item()]\n",
    "                self.optimizer.step()\n",
    "                train_acc += [METRIC(y_pred, y)]\n",
    "                #print(train_acc)\n",
    "\n",
    "            val_acc, val_loss = self.eval()\n",
    "            his = {'train_loss': np.mean(train_loss), 'train_accuracy': np.mean(train_acc), 'val_loss': np.mean(val_loss), 'val_accuracy': np.mean(val_acc)}\n",
    "            self.history.append(his)\n",
    "            self.on_epoch_end(his)\n",
    "\n",
    "    def eval(self):\n",
    "        \"\"\"\n",
    "        Evaluates the model.\n",
    "        \"\"\"\n",
    "        self.model.eval()\n",
    "        val_loss, val_acc = [], []\n",
    "        with torch.no_grad():\n",
    "            for x, y in self.test_loader:\n",
    "                x = x.to(Config.DEVICE)\n",
    "                y = y.to(Config.DEVICE)\n",
    "                y_pred = self.model(x)\n",
    "                val_acc += [METRIC(y_pred, y)]\n",
    "                val_loss += [self.criterion(y_pred, y).item()]\n",
    "        return val_acc, val_loss\n",
    "\n",
    "    def predict(self, text):\n",
    "        \"\"\"\n",
    "        Predicts the sentiment of a text.\n",
    "        \"\"\"\n",
    "        self.model.eval()\n",
    "        x = torch.tensor(self.df.text2seq(text))\n",
    "        x = x.to(Config.DEVICE)\n",
    "        y_pred = self.model(x)\n",
    "        return y_pred.item()\n",
    "\n",
    "    def on_epoch_end(self, logs):\n",
    "        print(f'train_loss: {logs[\"train_loss\"]:.2f}, train_accuracy: {logs[\"train_accuracy\"]:.2f}')\n",
    "        print(f'val_loss: {logs[\"val_loss\"]:.2f}, val_accuracy: {logs[\"val_accuracy\"]:.2f}')\n",
    "        print(\"-\"*10)\n",
    "        \n",
    "    def get_history(self):\n",
    "        return self.history\n",
    "\n",
    "    def get_model(self):\n",
    "        return self.model\n",
    "\n",
    "# if __name__ == \"__main__\":\n",
    "#     print(\"Start training\")\n",
    "#     start = time.time()\n",
    "#     execute = Executing()\n",
    "#     execute.train()\n",
    "#     end = time.time()\n",
    "#     print(f'Time taken: {end-start}')\n",
    "#     print(\"Finished training\")"
   ]
  },
  {
   "cell_type": "code",
   "execution_count": 4,
   "metadata": {},
   "outputs": [
    {
     "name": "stdout",
     "output_type": "stream",
     "text": [
      "Done preprocessing.\n",
      "Done text2seq.\n"
     ]
    }
   ],
   "source": [
    "df = Preprocessing()\n",
    "df.text2seq()"
   ]
  },
  {
   "cell_type": "code",
   "execution_count": 8,
   "metadata": {},
   "outputs": [],
   "source": [
    "X_train, X_test, y_train, y_test = df.get_data()"
   ]
  },
  {
   "cell_type": "code",
   "execution_count": 10,
   "metadata": {},
   "outputs": [
    {
     "data": {
      "text/plain": [
       "array([[  184,     9,     7, ...,     0,     0,     0],\n",
       "       [  785,  2907,   455, ...,     0,     0,     0],\n",
       "       [13985,   616,     7, ...,     0,     0,     0],\n",
       "       ...,\n",
       "       [  652,  3469,     1, ...,     0,     0,     0],\n",
       "       [ 9153,     1,  2496, ...,     0,     0,     0],\n",
       "       [   36,   254,   557, ...,     0,     0,     0]])"
      ]
     },
     "execution_count": 10,
     "metadata": {},
     "output_type": "execute_result"
    }
   ],
   "source": [
    "X_train"
   ]
  },
  {
   "cell_type": "code",
   "execution_count": 7,
   "metadata": {},
   "outputs": [
    {
     "name": "stdout",
     "output_type": "stream",
     "text": [
      "Start training\n",
      "Done preparing data\n",
      "256\n",
      "Epoch 1/3\n",
      "train_loss: 0.69, train_accuracy: 0.50\n",
      "val_loss: 0.69, val_accuracy: 0.50\n",
      "----------\n",
      "Epoch 2/3\n",
      "train_loss: 0.69, train_accuracy: 0.50\n",
      "val_loss: 0.69, val_accuracy: 0.50\n",
      "----------\n",
      "Epoch 3/3\n"
     ]
    },
    {
     "ename": "KeyboardInterrupt",
     "evalue": "",
     "output_type": "error",
     "traceback": [
      "\u001b[1;31m---------------------------------------------------------------------------\u001b[0m",
      "\u001b[1;31mKeyboardInterrupt\u001b[0m                         Traceback (most recent call last)",
      "\u001b[1;32mh:\\Jupyter_Notebooks\\DATA\\Datasets\\Sentiment140\\PyTorch.ipynb Cell 5\u001b[0m in \u001b[0;36m<cell line: 4>\u001b[1;34m()\u001b[0m\n\u001b[0;32m      <a href='vscode-notebook-cell:/h%3A/Jupyter_Notebooks/DATA/Datasets/Sentiment140/PyTorch.ipynb#X32sZmlsZQ%3D%3D?line=1'>2</a>\u001b[0m start \u001b[39m=\u001b[39m time\u001b[39m.\u001b[39mtime()\n\u001b[0;32m      <a href='vscode-notebook-cell:/h%3A/Jupyter_Notebooks/DATA/Datasets/Sentiment140/PyTorch.ipynb#X32sZmlsZQ%3D%3D?line=2'>3</a>\u001b[0m execute \u001b[39m=\u001b[39m Executing()\n\u001b[1;32m----> <a href='vscode-notebook-cell:/h%3A/Jupyter_Notebooks/DATA/Datasets/Sentiment140/PyTorch.ipynb#X32sZmlsZQ%3D%3D?line=3'>4</a>\u001b[0m execute\u001b[39m.\u001b[39;49mfit()\n\u001b[0;32m      <a href='vscode-notebook-cell:/h%3A/Jupyter_Notebooks/DATA/Datasets/Sentiment140/PyTorch.ipynb#X32sZmlsZQ%3D%3D?line=4'>5</a>\u001b[0m end \u001b[39m=\u001b[39m time\u001b[39m.\u001b[39mtime()\n\u001b[0;32m      <a href='vscode-notebook-cell:/h%3A/Jupyter_Notebooks/DATA/Datasets/Sentiment140/PyTorch.ipynb#X32sZmlsZQ%3D%3D?line=5'>6</a>\u001b[0m \u001b[39mprint\u001b[39m(\u001b[39mf\u001b[39m\u001b[39m'\u001b[39m\u001b[39mTime taken: \u001b[39m\u001b[39m{\u001b[39;00mend\u001b[39m-\u001b[39mstart\u001b[39m}\u001b[39;00m\u001b[39m'\u001b[39m)\n",
      "\u001b[1;32mh:\\Jupyter_Notebooks\\DATA\\Datasets\\Sentiment140\\PyTorch.ipynb Cell 5\u001b[0m in \u001b[0;36mExecuting.fit\u001b[1;34m(self)\u001b[0m\n\u001b[0;32m     <a href='vscode-notebook-cell:/h%3A/Jupyter_Notebooks/DATA/Datasets/Sentiment140/PyTorch.ipynb#X32sZmlsZQ%3D%3D?line=71'>72</a>\u001b[0m     train_acc \u001b[39m+\u001b[39m\u001b[39m=\u001b[39m [METRIC(y_pred, y)]\n\u001b[0;32m     <a href='vscode-notebook-cell:/h%3A/Jupyter_Notebooks/DATA/Datasets/Sentiment140/PyTorch.ipynb#X32sZmlsZQ%3D%3D?line=72'>73</a>\u001b[0m     \u001b[39m#print(train_acc)\u001b[39;00m\n\u001b[1;32m---> <a href='vscode-notebook-cell:/h%3A/Jupyter_Notebooks/DATA/Datasets/Sentiment140/PyTorch.ipynb#X32sZmlsZQ%3D%3D?line=74'>75</a>\u001b[0m val_acc, val_loss \u001b[39m=\u001b[39m \u001b[39mself\u001b[39;49m\u001b[39m.\u001b[39;49meval()\n\u001b[0;32m     <a href='vscode-notebook-cell:/h%3A/Jupyter_Notebooks/DATA/Datasets/Sentiment140/PyTorch.ipynb#X32sZmlsZQ%3D%3D?line=75'>76</a>\u001b[0m his \u001b[39m=\u001b[39m {\u001b[39m'\u001b[39m\u001b[39mtrain_loss\u001b[39m\u001b[39m'\u001b[39m: np\u001b[39m.\u001b[39mmean(train_loss), \u001b[39m'\u001b[39m\u001b[39mtrain_accuracy\u001b[39m\u001b[39m'\u001b[39m: np\u001b[39m.\u001b[39mmean(train_acc), \u001b[39m'\u001b[39m\u001b[39mval_loss\u001b[39m\u001b[39m'\u001b[39m: np\u001b[39m.\u001b[39mmean(val_loss), \u001b[39m'\u001b[39m\u001b[39mval_accuracy\u001b[39m\u001b[39m'\u001b[39m: np\u001b[39m.\u001b[39mmean(val_acc)}\n\u001b[0;32m     <a href='vscode-notebook-cell:/h%3A/Jupyter_Notebooks/DATA/Datasets/Sentiment140/PyTorch.ipynb#X32sZmlsZQ%3D%3D?line=76'>77</a>\u001b[0m \u001b[39mself\u001b[39m\u001b[39m.\u001b[39mhistory\u001b[39m.\u001b[39mappend(his)\n",
      "\u001b[1;32mh:\\Jupyter_Notebooks\\DATA\\Datasets\\Sentiment140\\PyTorch.ipynb Cell 5\u001b[0m in \u001b[0;36mExecuting.eval\u001b[1;34m(self)\u001b[0m\n\u001b[0;32m     <a href='vscode-notebook-cell:/h%3A/Jupyter_Notebooks/DATA/Datasets/Sentiment140/PyTorch.ipynb#X32sZmlsZQ%3D%3D?line=87'>88</a>\u001b[0m x \u001b[39m=\u001b[39m x\u001b[39m.\u001b[39mto(Config\u001b[39m.\u001b[39mDEVICE)\n\u001b[0;32m     <a href='vscode-notebook-cell:/h%3A/Jupyter_Notebooks/DATA/Datasets/Sentiment140/PyTorch.ipynb#X32sZmlsZQ%3D%3D?line=88'>89</a>\u001b[0m y \u001b[39m=\u001b[39m y\u001b[39m.\u001b[39mto(Config\u001b[39m.\u001b[39mDEVICE)\n\u001b[1;32m---> <a href='vscode-notebook-cell:/h%3A/Jupyter_Notebooks/DATA/Datasets/Sentiment140/PyTorch.ipynb#X32sZmlsZQ%3D%3D?line=89'>90</a>\u001b[0m y_pred \u001b[39m=\u001b[39m \u001b[39mself\u001b[39;49m\u001b[39m.\u001b[39;49mmodel(x)\n\u001b[0;32m     <a href='vscode-notebook-cell:/h%3A/Jupyter_Notebooks/DATA/Datasets/Sentiment140/PyTorch.ipynb#X32sZmlsZQ%3D%3D?line=90'>91</a>\u001b[0m val_acc \u001b[39m+\u001b[39m\u001b[39m=\u001b[39m [METRIC(y_pred, y)]\n\u001b[0;32m     <a href='vscode-notebook-cell:/h%3A/Jupyter_Notebooks/DATA/Datasets/Sentiment140/PyTorch.ipynb#X32sZmlsZQ%3D%3D?line=91'>92</a>\u001b[0m val_loss \u001b[39m+\u001b[39m\u001b[39m=\u001b[39m [\u001b[39mself\u001b[39m\u001b[39m.\u001b[39mcriterion(y_pred, y)\u001b[39m.\u001b[39mitem()]\n",
      "File \u001b[1;32mc:\\Users\\abdel\\.conda\\envs\\tensorflow\\lib\\site-packages\\torch\\nn\\modules\\module.py:1130\u001b[0m, in \u001b[0;36mModule._call_impl\u001b[1;34m(self, *input, **kwargs)\u001b[0m\n\u001b[0;32m   1126\u001b[0m \u001b[39m# If we don't have any hooks, we want to skip the rest of the logic in\u001b[39;00m\n\u001b[0;32m   1127\u001b[0m \u001b[39m# this function, and just call forward.\u001b[39;00m\n\u001b[0;32m   1128\u001b[0m \u001b[39mif\u001b[39;00m \u001b[39mnot\u001b[39;00m (\u001b[39mself\u001b[39m\u001b[39m.\u001b[39m_backward_hooks \u001b[39mor\u001b[39;00m \u001b[39mself\u001b[39m\u001b[39m.\u001b[39m_forward_hooks \u001b[39mor\u001b[39;00m \u001b[39mself\u001b[39m\u001b[39m.\u001b[39m_forward_pre_hooks \u001b[39mor\u001b[39;00m _global_backward_hooks\n\u001b[0;32m   1129\u001b[0m         \u001b[39mor\u001b[39;00m _global_forward_hooks \u001b[39mor\u001b[39;00m _global_forward_pre_hooks):\n\u001b[1;32m-> 1130\u001b[0m     \u001b[39mreturn\u001b[39;00m forward_call(\u001b[39m*\u001b[39m\u001b[39minput\u001b[39m, \u001b[39m*\u001b[39m\u001b[39m*\u001b[39mkwargs)\n\u001b[0;32m   1131\u001b[0m \u001b[39m# Do not call functions when jit is used\u001b[39;00m\n\u001b[0;32m   1132\u001b[0m full_backward_hooks, non_full_backward_hooks \u001b[39m=\u001b[39m [], []\n",
      "File \u001b[1;32mh:\\Jupyter_Notebooks\\DATA\\Datasets\\Sentiment140\\model.py:25\u001b[0m, in \u001b[0;36mClassifier.forward\u001b[1;34m(self, x)\u001b[0m\n\u001b[0;32m     23\u001b[0m torch\u001b[39m.\u001b[39mnn\u001b[39m.\u001b[39minit\u001b[39m.\u001b[39mxavier_normal_(c0)\n\u001b[0;32m     24\u001b[0m out \u001b[39m=\u001b[39m \u001b[39mself\u001b[39m\u001b[39m.\u001b[39membedding(x)\n\u001b[1;32m---> 25\u001b[0m out, _ \u001b[39m=\u001b[39m \u001b[39mself\u001b[39;49m\u001b[39m.\u001b[39;49mlstm(out, (h0,c0))\n\u001b[0;32m     26\u001b[0m out \u001b[39m=\u001b[39m \u001b[39mself\u001b[39m\u001b[39m.\u001b[39mdropout(out)\n\u001b[0;32m     27\u001b[0m out \u001b[39m=\u001b[39m torch\u001b[39m.\u001b[39mrelu_(\u001b[39mself\u001b[39m\u001b[39m.\u001b[39mfc1(out[:,\u001b[39m-\u001b[39m\u001b[39m1\u001b[39m,:]))\n",
      "File \u001b[1;32mc:\\Users\\abdel\\.conda\\envs\\tensorflow\\lib\\site-packages\\torch\\nn\\modules\\module.py:1130\u001b[0m, in \u001b[0;36mModule._call_impl\u001b[1;34m(self, *input, **kwargs)\u001b[0m\n\u001b[0;32m   1126\u001b[0m \u001b[39m# If we don't have any hooks, we want to skip the rest of the logic in\u001b[39;00m\n\u001b[0;32m   1127\u001b[0m \u001b[39m# this function, and just call forward.\u001b[39;00m\n\u001b[0;32m   1128\u001b[0m \u001b[39mif\u001b[39;00m \u001b[39mnot\u001b[39;00m (\u001b[39mself\u001b[39m\u001b[39m.\u001b[39m_backward_hooks \u001b[39mor\u001b[39;00m \u001b[39mself\u001b[39m\u001b[39m.\u001b[39m_forward_hooks \u001b[39mor\u001b[39;00m \u001b[39mself\u001b[39m\u001b[39m.\u001b[39m_forward_pre_hooks \u001b[39mor\u001b[39;00m _global_backward_hooks\n\u001b[0;32m   1129\u001b[0m         \u001b[39mor\u001b[39;00m _global_forward_hooks \u001b[39mor\u001b[39;00m _global_forward_pre_hooks):\n\u001b[1;32m-> 1130\u001b[0m     \u001b[39mreturn\u001b[39;00m forward_call(\u001b[39m*\u001b[39m\u001b[39minput\u001b[39m, \u001b[39m*\u001b[39m\u001b[39m*\u001b[39mkwargs)\n\u001b[0;32m   1131\u001b[0m \u001b[39m# Do not call functions when jit is used\u001b[39;00m\n\u001b[0;32m   1132\u001b[0m full_backward_hooks, non_full_backward_hooks \u001b[39m=\u001b[39m [], []\n",
      "File \u001b[1;32mc:\\Users\\abdel\\.conda\\envs\\tensorflow\\lib\\site-packages\\torch\\nn\\modules\\rnn.py:769\u001b[0m, in \u001b[0;36mLSTM.forward\u001b[1;34m(self, input, hx)\u001b[0m\n\u001b[0;32m    767\u001b[0m \u001b[39mself\u001b[39m\u001b[39m.\u001b[39mcheck_forward_args(\u001b[39minput\u001b[39m, hx, batch_sizes)\n\u001b[0;32m    768\u001b[0m \u001b[39mif\u001b[39;00m batch_sizes \u001b[39mis\u001b[39;00m \u001b[39mNone\u001b[39;00m:\n\u001b[1;32m--> 769\u001b[0m     result \u001b[39m=\u001b[39m _VF\u001b[39m.\u001b[39;49mlstm(\u001b[39minput\u001b[39;49m, hx, \u001b[39mself\u001b[39;49m\u001b[39m.\u001b[39;49m_flat_weights, \u001b[39mself\u001b[39;49m\u001b[39m.\u001b[39;49mbias, \u001b[39mself\u001b[39;49m\u001b[39m.\u001b[39;49mnum_layers,\n\u001b[0;32m    770\u001b[0m                       \u001b[39mself\u001b[39;49m\u001b[39m.\u001b[39;49mdropout, \u001b[39mself\u001b[39;49m\u001b[39m.\u001b[39;49mtraining, \u001b[39mself\u001b[39;49m\u001b[39m.\u001b[39;49mbidirectional, \u001b[39mself\u001b[39;49m\u001b[39m.\u001b[39;49mbatch_first)\n\u001b[0;32m    771\u001b[0m \u001b[39melse\u001b[39;00m:\n\u001b[0;32m    772\u001b[0m     result \u001b[39m=\u001b[39m _VF\u001b[39m.\u001b[39mlstm(\u001b[39minput\u001b[39m, batch_sizes, hx, \u001b[39mself\u001b[39m\u001b[39m.\u001b[39m_flat_weights, \u001b[39mself\u001b[39m\u001b[39m.\u001b[39mbias,\n\u001b[0;32m    773\u001b[0m                       \u001b[39mself\u001b[39m\u001b[39m.\u001b[39mnum_layers, \u001b[39mself\u001b[39m\u001b[39m.\u001b[39mdropout, \u001b[39mself\u001b[39m\u001b[39m.\u001b[39mtraining, \u001b[39mself\u001b[39m\u001b[39m.\u001b[39mbidirectional)\n",
      "\u001b[1;31mKeyboardInterrupt\u001b[0m: "
     ]
    }
   ],
   "source": [
    "print(\"Start training\")\n",
    "start = time.time()\n",
    "execute = Executing()\n",
    "execute.fit()\n",
    "end = time.time()\n",
    "print(f'Time taken: {end-start}')\n",
    "print(\"Finished training\")"
   ]
  },
  {
   "cell_type": "code",
   "execution_count": null,
   "metadata": {},
   "outputs": [],
   "source": []
  }
 ],
 "metadata": {
  "kernelspec": {
   "display_name": "Python 3.9.12 ('tensorflow')",
   "language": "python",
   "name": "python3"
  },
  "language_info": {
   "codemirror_mode": {
    "name": "ipython",
    "version": 3
   },
   "file_extension": ".py",
   "mimetype": "text/x-python",
   "name": "python",
   "nbconvert_exporter": "python",
   "pygments_lexer": "ipython3",
   "version": "3.9.12"
  },
  "orig_nbformat": 4,
  "vscode": {
   "interpreter": {
    "hash": "894b3b24c145c270a8b7351330716103ae0f8142438128cd5931ba0aa38e4d56"
   }
  }
 },
 "nbformat": 4,
 "nbformat_minor": 2
}
